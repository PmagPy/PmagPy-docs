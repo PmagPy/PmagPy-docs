{
 "cells": [
  {
   "cell_type": "markdown",
   "metadata": {},
   "source": [
    "# Inspecting directional data in a MagIC contribution using PmagPy\n",
    "\n",
    "This template notebook enables inspection of the data within a MagIC contribution. We want to get the data from MagIC, import the data into our notebook, and inspect the data by making plots."
   ]
  },
  {
   "cell_type": "markdown",
   "metadata": {},
   "source": [
    "## Import functions from PmagPy\n",
    "\n",
    "To start with, let's import some functions from PmagPy:"
   ]
  },
  {
   "cell_type": "code",
   "execution_count": 6,
   "metadata": {},
   "outputs": [],
   "source": [
    "import pmagpy.ipmag as ipmag\n",
    "\n",
    "%matplotlib inline\n",
    "%config InlineBackend.figure_format='retina'"
   ]
  },
  {
   "cell_type": "markdown",
   "metadata": {},
   "source": [
    "## Import the data\n",
    "\n",
    "We can use ipmag to go download the data from MagIC for us. We can do this in a couple of ways. One way is to use the doi and the function ```ipmag.download_magic_from_doi()```. The other is to use the MagIC contribution ID number with the ```ipmag.download_magic_from_id()``` function. Let's take that approach for the study:\n",
    "\n",
    "> Nicholas L. Swanson‐Hysell, Margaret S. Avery, Yiming Zhang, Eben B. Hodgin, Robert J. Sherwood, Francisco E. Apen, Terrence J. Boerboom, C. Brenhin Keller, John M. Cottle (2021). The paleogeography of Laurentia in its early years:new constraints from the Paleoproterozoic East‐Central Minnesota batholith. Tectonics. doi:10.1029/2021TC006751. MagIC contribution: https://earthref.org/MagIC/doi/10.1029/2021TC006751\n",
    "\n",
    "which has a MagIC ID of 17072. This MagIC ID can be replaced with that of another study in the MagIC database."
   ]
  },
  {
   "cell_type": "code",
   "execution_count": 7,
   "metadata": {},
   "outputs": [],
   "source": [
    "magic_id='17072'\n",
    "result, magic_file_name = ipmag.download_magic_from_id(magic_id)"
   ]
  },
  {
   "cell_type": "markdown",
   "metadata": {},
   "source": [
    "Running this function will download a file called ```magic_contribution_17072.txt``` in the folder that this notebook is in.\n",
    "\n",
    "In the above code cell, we saved a variable `magic_file_name` that is the name of the files that was downloaded."
   ]
  },
  {
   "cell_type": "code",
   "execution_count": null,
   "metadata": {},
   "outputs": [],
   "source": [
    "magic_file_name"
   ]
  },
  {
   "cell_type": "markdown",
   "metadata": {},
   "source": [
    "## Unpacking the tables\n",
    "\n",
    "A MagIC contribution is a single .txt file that comprises a number of tables. In the case of this contribution, we have these tables:\n",
    "- contribution\n",
    "- locations\n",
    "- sites\n",
    "- samples\n",
    "- specimens\n",
    "- measurements\n",
    "\n",
    "We want unpack the contribution into these distinct tables."
   ]
  },
  {
   "cell_type": "code",
   "execution_count": null,
   "metadata": {},
   "outputs": [],
   "source": [
    "ipmag.download_magic(magic_file_name,print_progress=False)"
   ]
  },
  {
   "cell_type": "markdown",
   "metadata": {},
   "source": [
    "## Visualizing measurement level data\n",
    "\n",
    "The ```ipmag.zeq_magic()``` function will plot measurement data from single specimens generating:\n",
    "- equal area plot\n",
    "- Zijderveld plot\n",
    "- demagnetization plot\n",
    "\n",
    "The `n_plots` parameter specifies how many specimens data are generated."
   ]
  },
  {
   "cell_type": "code",
   "execution_count": null,
   "metadata": {},
   "outputs": [],
   "source": [
    "ipmag.zeq_magic(save_plots=False, n_plots=1)"
   ]
  },
  {
   "cell_type": "markdown",
   "metadata": {},
   "source": [
    "## Visualizing site level data\n",
    "\n",
    "Plots can also be saved by setting `save_plots` to be `True`"
   ]
  },
  {
   "cell_type": "code",
   "execution_count": null,
   "metadata": {},
   "outputs": [],
   "source": [
    "ipmag.eqarea_magic(save_plots=True)"
   ]
  },
  {
   "cell_type": "code",
   "execution_count": null,
   "metadata": {},
   "outputs": [],
   "source": [
    "ipmag.vgpmap_magic(flip=True,\n",
    "                   save_plots=False,\n",
    "                   lat_0=60)"
   ]
  },
  {
   "cell_type": "markdown",
   "metadata": {},
   "source": [
    "## Importing specific MagIC tables\n",
    "\n",
    "The functions above `ipmag.zeq_magic`, `ipmag.eqarea_magic`, and `ipmag.vgpmap_magic` are convenience functions that are able to directly read from MagIC files. For some other functions in `PmagPy` data need to be imported to be Python objects. There is a really nice package for dealing with tabular data in Python called `pandas`. The code cell below imports this package so that we can use it. We use the typical scientific Python nomenclature of importing it for use to the shorthand `pd`."
   ]
  },
  {
   "cell_type": "code",
   "execution_count": null,
   "metadata": {},
   "outputs": [],
   "source": [
    "# Read the files\n",
    "specimens = pd.read_csv('specimens.txt', sep='\\t', skiprows=1)\n",
    "measurements = pd.read_csv('measurements.txt', sep='\\t', skiprows=1)\n",
    "\n",
    "# Get the unique specimen names from each DataFrame\n",
    "unique_specimens = specimens['specimen'].unique()\n",
    "unique_measurements = measurements['specimen'].unique()\n",
    "\n",
    "# Find the common unique names using numpy's intersect1d method\n",
    "specimen_list = pd.np.intersect1d(unique_specimens, unique_measurements)\n",
    "\n",
    "specimen_list"
   ]
  },
  {
   "cell_type": "code",
   "execution_count": null,
   "metadata": {},
   "outputs": [],
   "source": [
    "import pandas as pd"
   ]
  },
  {
   "cell_type": "markdown",
   "metadata": {},
   "source": [
    "### Import the sites table\n",
    "\n",
    "We can now use pandas to import the sites table to a pandas dataframe using the function `pd.read_csv()`."
   ]
  },
  {
   "cell_type": "code",
   "execution_count": null,
   "metadata": {},
   "outputs": [],
   "source": [
    "sites = pd.read_csv('sites.txt',sep='\\t',header=1)\n",
    "sites"
   ]
  },
  {
   "cell_type": "markdown",
   "metadata": {},
   "source": [
    "We can extract specific columns from the dataframe by using the nomenclature `dataframe_name['column_name']`. In this case, the dataframe name is `sites` and the column name might be `dir_dec`. So `sites['dir_dec']` will give us  all the declinations."
   ]
  },
  {
   "cell_type": "code",
   "execution_count": null,
   "metadata": {},
   "outputs": [],
   "source": [
    "sites_dec = sites['dir_dec']\n",
    "sites_inc = sites['dir_inc']"
   ]
  },
  {
   "cell_type": "markdown",
   "metadata": {},
   "source": [
    "## Pick a MagIC contribution to inspect yourself\n",
    "\n",
    "Browse through some MagIC contributions and import the data to inspect them for yourself.\n",
    "\n",
    "You can copy code from cells above and put them in the cells below."
   ]
  },
  {
   "cell_type": "code",
   "execution_count": null,
   "metadata": {},
   "outputs": [],
   "source": []
  },
  {
   "cell_type": "code",
   "execution_count": null,
   "metadata": {},
   "outputs": [],
   "source": []
  },
  {
   "cell_type": "code",
   "execution_count": null,
   "metadata": {},
   "outputs": [],
   "source": []
  },
  {
   "cell_type": "code",
   "execution_count": null,
   "metadata": {},
   "outputs": [],
   "source": []
  }
 ],
 "metadata": {
  "kernelspec": {
   "display_name": "Python 3 (ipykernel)",
   "language": "python",
   "name": "python3"
  },
  "language_info": {
   "codemirror_mode": {
    "name": "ipython",
    "version": 3
   },
   "file_extension": ".py",
   "mimetype": "text/x-python",
   "name": "python",
   "nbconvert_exporter": "python",
   "pygments_lexer": "ipython3",
   "version": "3.11.5"
  }
 },
 "nbformat": 4,
 "nbformat_minor": 4
}
