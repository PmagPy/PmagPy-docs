{
 "cells": [
  {
   "cell_type": "markdown",
   "metadata": {},
   "source": [
    "# Conduct reversal test on directional data in MagIC format using PmagPy\n",
    "\n",
    "In this notebook, we conduct a reversal test on site level paleomagnetic directional data from the following study.\n",
    "\n",
    "> Behar, N., Shaar, R., Tauxe, L., Asefaw,\n",
    "H., Ebert, Y., Heimann, A., et al. (2019).\n",
    "Paleomagnetism and paleosecular\n",
    "variations from the Plio‐Pleistocene\n",
    "Golan Heights volcanic plateau, Israel.\n",
    "Geochemistry, Geophysics, Geosystems,\n",
    "20 https://doi.org/10.1029/2019GC008479\n",
    "\n",
    "### Change the MagIC contribution\n",
    "\n",
    "You can change what study this notebook is applied to by changing the `magic_id` in the **Download data** code below.\n",
    "\n",
    "### Apply to your own `sites.txt` data\n",
    "\n",
    "You can also substitute in your own MagIC format `sites.txt` file. To do this, skip the **Download data** section and got to the **Import the sites table** section after running the **Import packages** code."
   ]
  },
  {
   "cell_type": "markdown",
   "metadata": {},
   "source": [
    "## Import packages"
   ]
  },
  {
   "cell_type": "code",
   "execution_count": 1,
   "metadata": {},
   "outputs": [],
   "source": [
    "import pmagpy.ipmag as ipmag\n",
    "import pandas as pd\n",
    "%matplotlib inline\n",
    "%config InlineBackend.figure_format='retina'"
   ]
  },
  {
   "cell_type": "markdown",
   "metadata": {},
   "source": [
    "## Download data"
   ]
  },
  {
   "cell_type": "markdown",
   "metadata": {},
   "source": [
    "Following the steps in the \n",
    "`Inspecting_MagIC_directional_data.ipynb`\n",
    "notebook, we can download and unpack the data."
   ]
  },
  {
   "cell_type": "code",
   "execution_count": 2,
   "metadata": {},
   "outputs": [
    {
     "name": "stdout",
     "output_type": "stream",
     "text": [
      "100% [......................................................] 1133759 / 11337591  records written to file  /Users/unimos/0000_Github/PmagPy-docs/example_notebooks/template_notebooks/contribution.txt\n",
      "1  records written to file  /Users/unimos/0000_Github/PmagPy-docs/example_notebooks/template_notebooks/locations.txt\n",
      "91  records written to file  /Users/unimos/0000_Github/PmagPy-docs/example_notebooks/template_notebooks/sites.txt\n",
      "611  records written to file  /Users/unimos/0000_Github/PmagPy-docs/example_notebooks/template_notebooks/samples.txt\n",
      "676  records written to file  /Users/unimos/0000_Github/PmagPy-docs/example_notebooks/template_notebooks/specimens.txt\n",
      "6297  records written to file  /Users/unimos/0000_Github/PmagPy-docs/example_notebooks/template_notebooks/measurements.txt\n",
      "1  records written to file  /Users/unimos/0000_Github/PmagPy-docs/example_notebooks/template_notebooks/criteria.txt\n",
      "91  records written to file  /Users/unimos/0000_Github/PmagPy-docs/example_notebooks/template_notebooks/ages.txt\n"
     ]
    },
    {
     "data": {
      "text/plain": [
       "True"
      ]
     },
     "execution_count": 2,
     "metadata": {},
     "output_type": "execute_result"
    }
   ],
   "source": [
    "magic_id='16676'\n",
    "result, magic_file_name = ipmag.download_magic_from_id(magic_id)\n",
    "ipmag.download_magic(magic_file_name,print_progress=False)"
   ]
  },
  {
   "cell_type": "markdown",
   "metadata": {},
   "source": [
    "### Import the sites table\n",
    "\n",
    "We can now use pandas to import the sites table to a pandas dataframe using the function `pd.read_csv()`."
   ]
  },
  {
   "cell_type": "code",
   "execution_count": 3,
   "metadata": {},
   "outputs": [
    {
     "data": {
      "text/html": [
       "<div>\n",
       "<style scoped>\n",
       "    .dataframe tbody tr th:only-of-type {\n",
       "        vertical-align: middle;\n",
       "    }\n",
       "\n",
       "    .dataframe tbody tr th {\n",
       "        vertical-align: top;\n",
       "    }\n",
       "\n",
       "    .dataframe thead th {\n",
       "        text-align: right;\n",
       "    }\n",
       "</style>\n",
       "<table border=\"1\" class=\"dataframe\">\n",
       "  <thead>\n",
       "    <tr style=\"text-align: right;\">\n",
       "      <th></th>\n",
       "      <th>age</th>\n",
       "      <th>age_high</th>\n",
       "      <th>age_low</th>\n",
       "      <th>age_unit</th>\n",
       "      <th>citations</th>\n",
       "      <th>criteria</th>\n",
       "      <th>dir_alpha95</th>\n",
       "      <th>dir_comp_name</th>\n",
       "      <th>dir_dec</th>\n",
       "      <th>dir_inc</th>\n",
       "      <th>...</th>\n",
       "      <th>result_quality</th>\n",
       "      <th>result_type</th>\n",
       "      <th>samples</th>\n",
       "      <th>site</th>\n",
       "      <th>software_packages</th>\n",
       "      <th>specimens</th>\n",
       "      <th>vgp_dm</th>\n",
       "      <th>vgp_dp</th>\n",
       "      <th>vgp_lat</th>\n",
       "      <th>vgp_lon</th>\n",
       "    </tr>\n",
       "  </thead>\n",
       "  <tbody>\n",
       "    <tr>\n",
       "      <th>0</th>\n",
       "      <td>0.6798</td>\n",
       "      <td>0.6798</td>\n",
       "      <td>0.6798</td>\n",
       "      <td>Ma</td>\n",
       "      <td>This study</td>\n",
       "      <td>ACCEPT</td>\n",
       "      <td>4.7</td>\n",
       "      <td>Fit 1</td>\n",
       "      <td>350.0</td>\n",
       "      <td>37.2</td>\n",
       "      <td>...</td>\n",
       "      <td>g</td>\n",
       "      <td>i</td>\n",
       "      <td>GH01A:GH01B:GH01C:GH01D:GH01H:GH01M</td>\n",
       "      <td>GH01</td>\n",
       "      <td>pmagpy-3.16.0: demag_gui.v.3.0</td>\n",
       "      <td>GH01A1:GH01B1:GH01B2:GH01C1:GH01D1:GH01H1:GH01M1</td>\n",
       "      <td>5.5</td>\n",
       "      <td>3.2</td>\n",
       "      <td>74.8</td>\n",
       "      <td>254.1</td>\n",
       "    </tr>\n",
       "    <tr>\n",
       "      <th>1</th>\n",
       "      <td>1.3500</td>\n",
       "      <td>2.6000</td>\n",
       "      <td>0.1000</td>\n",
       "      <td>Ma</td>\n",
       "      <td>This study</td>\n",
       "      <td>ACCEPT</td>\n",
       "      <td>2.3</td>\n",
       "      <td>Fit 1</td>\n",
       "      <td>349.7</td>\n",
       "      <td>37.2</td>\n",
       "      <td>...</td>\n",
       "      <td>g</td>\n",
       "      <td>i</td>\n",
       "      <td>GH02A:GH02C:GH02D:GH02E:GH02F:GH02G</td>\n",
       "      <td>GH02</td>\n",
       "      <td>pmagpy-3.16.0: demag_gui.v.3.0</td>\n",
       "      <td>GH02A1:GH02C1:GH02D1:GH02E1:GH02E2:GH02F1:GH02...</td>\n",
       "      <td>2.7</td>\n",
       "      <td>1.6</td>\n",
       "      <td>74.7</td>\n",
       "      <td>255.0</td>\n",
       "    </tr>\n",
       "    <tr>\n",
       "      <th>2</th>\n",
       "      <td>1.1115</td>\n",
       "      <td>1.1115</td>\n",
       "      <td>1.1115</td>\n",
       "      <td>Ma</td>\n",
       "      <td>This study</td>\n",
       "      <td>ACCEPT</td>\n",
       "      <td>2.3</td>\n",
       "      <td>Fit 1</td>\n",
       "      <td>157.0</td>\n",
       "      <td>-56.9</td>\n",
       "      <td>...</td>\n",
       "      <td>g</td>\n",
       "      <td>i</td>\n",
       "      <td>GH03A:GH03B:GH03C:GH03D:GH03E:GH03G:GH03H</td>\n",
       "      <td>GH03</td>\n",
       "      <td>pmagpy-3.16.0: demag_gui.v.3.0</td>\n",
       "      <td>GH03A1:GH03B1:GH03C1:GH03C2:GH03D1:GH03E1:GH03...</td>\n",
       "      <td>3.3</td>\n",
       "      <td>2.4</td>\n",
       "      <td>-70.8</td>\n",
       "      <td>145.5</td>\n",
       "    </tr>\n",
       "    <tr>\n",
       "      <th>3</th>\n",
       "      <td>1.3500</td>\n",
       "      <td>2.6000</td>\n",
       "      <td>0.1000</td>\n",
       "      <td>Ma</td>\n",
       "      <td>This study</td>\n",
       "      <td>ACCEPT</td>\n",
       "      <td>2.1</td>\n",
       "      <td>Fit 1</td>\n",
       "      <td>175.1</td>\n",
       "      <td>-58.0</td>\n",
       "      <td>...</td>\n",
       "      <td>g</td>\n",
       "      <td>i</td>\n",
       "      <td>GH04A:GH04B:GH04C:GH04D:GH04E:GH04F:GH04G:GH04H</td>\n",
       "      <td>GH04</td>\n",
       "      <td>pmagpy-3.16.0: demag_gui.v.3.0</td>\n",
       "      <td>GH04A1:GH04B1:GH04C1:GH04D1:GH04E1:GH04E2:GH04...</td>\n",
       "      <td>3.1</td>\n",
       "      <td>2.3</td>\n",
       "      <td>-83.1</td>\n",
       "      <td>181.8</td>\n",
       "    </tr>\n",
       "    <tr>\n",
       "      <th>4</th>\n",
       "      <td>1.1196</td>\n",
       "      <td>1.1196</td>\n",
       "      <td>1.1196</td>\n",
       "      <td>Ma</td>\n",
       "      <td>This study</td>\n",
       "      <td>ACCEPT</td>\n",
       "      <td>2.8</td>\n",
       "      <td>Fit 1</td>\n",
       "      <td>181.0</td>\n",
       "      <td>-56.8</td>\n",
       "      <td>...</td>\n",
       "      <td>g</td>\n",
       "      <td>i</td>\n",
       "      <td>GH05A:GH05B:GH05D:GH05G:GH05H:GH05I:GH05K:GH05L</td>\n",
       "      <td>GH05</td>\n",
       "      <td>pmagpy-3.16.0: demag_gui.v.3.0</td>\n",
       "      <td>GH05A1:GH05B1:GH05D1:GH05G1:GH05H1:GH05H2:GH05...</td>\n",
       "      <td>4.1</td>\n",
       "      <td>2.9</td>\n",
       "      <td>-85.6</td>\n",
       "      <td>226.0</td>\n",
       "    </tr>\n",
       "  </tbody>\n",
       "</table>\n",
       "<p>5 rows × 35 columns</p>\n",
       "</div>"
      ],
      "text/plain": [
       "      age  age_high  age_low age_unit   citations criteria  dir_alpha95  \\\n",
       "0  0.6798    0.6798   0.6798       Ma  This study   ACCEPT          4.7   \n",
       "1  1.3500    2.6000   0.1000       Ma  This study   ACCEPT          2.3   \n",
       "2  1.1115    1.1115   1.1115       Ma  This study   ACCEPT          2.3   \n",
       "3  1.3500    2.6000   0.1000       Ma  This study   ACCEPT          2.1   \n",
       "4  1.1196    1.1196   1.1196       Ma  This study   ACCEPT          2.8   \n",
       "\n",
       "  dir_comp_name  dir_dec  dir_inc  ...  result_quality  result_type  \\\n",
       "0         Fit 1    350.0     37.2  ...               g            i   \n",
       "1         Fit 1    349.7     37.2  ...               g            i   \n",
       "2         Fit 1    157.0    -56.9  ...               g            i   \n",
       "3         Fit 1    175.1    -58.0  ...               g            i   \n",
       "4         Fit 1    181.0    -56.8  ...               g            i   \n",
       "\n",
       "                                           samples  site  \\\n",
       "0              GH01A:GH01B:GH01C:GH01D:GH01H:GH01M  GH01   \n",
       "1              GH02A:GH02C:GH02D:GH02E:GH02F:GH02G  GH02   \n",
       "2        GH03A:GH03B:GH03C:GH03D:GH03E:GH03G:GH03H  GH03   \n",
       "3  GH04A:GH04B:GH04C:GH04D:GH04E:GH04F:GH04G:GH04H  GH04   \n",
       "4  GH05A:GH05B:GH05D:GH05G:GH05H:GH05I:GH05K:GH05L  GH05   \n",
       "\n",
       "                software_packages  \\\n",
       "0  pmagpy-3.16.0: demag_gui.v.3.0   \n",
       "1  pmagpy-3.16.0: demag_gui.v.3.0   \n",
       "2  pmagpy-3.16.0: demag_gui.v.3.0   \n",
       "3  pmagpy-3.16.0: demag_gui.v.3.0   \n",
       "4  pmagpy-3.16.0: demag_gui.v.3.0   \n",
       "\n",
       "                                           specimens  vgp_dm  vgp_dp vgp_lat  \\\n",
       "0   GH01A1:GH01B1:GH01B2:GH01C1:GH01D1:GH01H1:GH01M1     5.5     3.2    74.8   \n",
       "1  GH02A1:GH02C1:GH02D1:GH02E1:GH02E2:GH02F1:GH02...     2.7     1.6    74.7   \n",
       "2  GH03A1:GH03B1:GH03C1:GH03C2:GH03D1:GH03E1:GH03...     3.3     2.4   -70.8   \n",
       "3  GH04A1:GH04B1:GH04C1:GH04D1:GH04E1:GH04E2:GH04...     3.1     2.3   -83.1   \n",
       "4  GH05A1:GH05B1:GH05D1:GH05G1:GH05H1:GH05H2:GH05...     4.1     2.9   -85.6   \n",
       "\n",
       "  vgp_lon  \n",
       "0   254.1  \n",
       "1   255.0  \n",
       "2   145.5  \n",
       "3   181.8  \n",
       "4   226.0  \n",
       "\n",
       "[5 rows x 35 columns]"
      ]
     },
     "execution_count": 3,
     "metadata": {},
     "output_type": "execute_result"
    }
   ],
   "source": [
    "sites = pd.read_csv('sites.txt',sep='\\t',header=1)\n",
    "sites.head()"
   ]
  },
  {
   "cell_type": "markdown",
   "metadata": {},
   "source": [
    "We can extract specific columns from the dataframe by using the nomenclature `dataframe_name['column_name']`. In this case, we want to conduct a reversal test on the data in the `sites` dataframe and are interested in the directional data which are the declination column `dir_dec` and the inclination column `dir_inc`. So using the code `sites['dir_dec']` will give us all the declinations which we can assign to a variable `sites_dec`."
   ]
  },
  {
   "cell_type": "code",
   "execution_count": 4,
   "metadata": {},
   "outputs": [],
   "source": [
    "sites_dec = sites['dir_dec']\n",
    "sites_inc = sites['dir_inc']"
   ]
  },
  {
   "cell_type": "markdown",
   "metadata": {},
   "source": [
    "## Reversal tests\n",
    "\n",
    "Now that we have extracted the declination and inclination values, let's conduct reversal tests on these data using the functions `ipmag.reversal_test_bootstrap` and `ipmag.reversal_test_MM1990`.\n",
    "\n",
    "### Learn about the function\n",
    "\n",
    "To learn more about this function we can type `ipmag.reversal_test_bootstrap?` in a code cell."
   ]
  },
  {
   "cell_type": "code",
   "execution_count": 5,
   "metadata": {},
   "outputs": [
    {
     "data": {
      "text/plain": [
       "\u001b[0;31mSignature:\u001b[0m\n",
       "\u001b[0mipmag\u001b[0m\u001b[0;34m.\u001b[0m\u001b[0mreversal_test_bootstrap\u001b[0m\u001b[0;34m(\u001b[0m\u001b[0;34m\u001b[0m\n",
       "\u001b[0;34m\u001b[0m    \u001b[0mdec\u001b[0m\u001b[0;34m=\u001b[0m\u001b[0;32mNone\u001b[0m\u001b[0;34m,\u001b[0m\u001b[0;34m\u001b[0m\n",
       "\u001b[0;34m\u001b[0m    \u001b[0minc\u001b[0m\u001b[0;34m=\u001b[0m\u001b[0;32mNone\u001b[0m\u001b[0;34m,\u001b[0m\u001b[0;34m\u001b[0m\n",
       "\u001b[0;34m\u001b[0m    \u001b[0mdi_block\u001b[0m\u001b[0;34m=\u001b[0m\u001b[0;32mNone\u001b[0m\u001b[0;34m,\u001b[0m\u001b[0;34m\u001b[0m\n",
       "\u001b[0;34m\u001b[0m    \u001b[0mplot_stereo\u001b[0m\u001b[0;34m=\u001b[0m\u001b[0;32mFalse\u001b[0m\u001b[0;34m,\u001b[0m\u001b[0;34m\u001b[0m\n",
       "\u001b[0;34m\u001b[0m    \u001b[0mcolor1\u001b[0m\u001b[0;34m=\u001b[0m\u001b[0;34m'blue'\u001b[0m\u001b[0;34m,\u001b[0m\u001b[0;34m\u001b[0m\n",
       "\u001b[0;34m\u001b[0m    \u001b[0mcolor2\u001b[0m\u001b[0;34m=\u001b[0m\u001b[0;34m'red'\u001b[0m\u001b[0;34m,\u001b[0m\u001b[0;34m\u001b[0m\n",
       "\u001b[0;34m\u001b[0m    \u001b[0msave\u001b[0m\u001b[0;34m=\u001b[0m\u001b[0;32mFalse\u001b[0m\u001b[0;34m,\u001b[0m\u001b[0;34m\u001b[0m\n",
       "\u001b[0;34m\u001b[0m    \u001b[0msave_folder\u001b[0m\u001b[0;34m=\u001b[0m\u001b[0;34m'.'\u001b[0m\u001b[0;34m,\u001b[0m\u001b[0;34m\u001b[0m\n",
       "\u001b[0;34m\u001b[0m    \u001b[0mfmt\u001b[0m\u001b[0;34m=\u001b[0m\u001b[0;34m'svg'\u001b[0m\u001b[0;34m,\u001b[0m\u001b[0;34m\u001b[0m\n",
       "\u001b[0;34m\u001b[0m\u001b[0;34m)\u001b[0m\u001b[0;34m\u001b[0m\u001b[0;34m\u001b[0m\u001b[0m\n",
       "\u001b[0;31mDocstring:\u001b[0m\n",
       "Conduct a reversal test using bootstrap statistics (Tauxe, 2010) to\n",
       "determine whether two populations of directions could be from an antipodal\n",
       "common mean.\n",
       "\n",
       "Parameters:\n",
       "    dec: list of declinations\n",
       "    inc: list of inclinations\n",
       "    di_block: a nested list of [dec,inc]\n",
       "        A di_block can be provided in which case it will be used instead of\n",
       "        dec, inc lists.\n",
       "    plot_stereo : before plotting the CDFs, plot stereonet with the\n",
       "        bidirectionally separated data (default is False)\n",
       "    save : boolean argument to save plots (default is False)\n",
       "    save_folder : directory where plots will be saved (default is current directory, '.')\n",
       "    fmt : format of saved figures (default is 'svg')\n",
       "\n",
       "Returns:\n",
       "    A boolean where 0 is fail and 1 is pass is returned. \n",
       "    Plots of the cumulative distribution of Cartesian components are shown\n",
       "    an equal area plot if `plot_stereo = True`. \n",
       "\n",
       "Examples:\n",
       "    Populations of roughly antipodal directions are developed here using\n",
       "    ``ipmag.fishrot``. These directions are combined into a single di_block\n",
       "    given that the function determines the principal component and splits the\n",
       "    data accordingly by polarity.\n",
       "\n",
       "    >>> directions_n = ipmag.fishrot(k=20, n=30, dec=5, inc=-60)\n",
       "    >>> directions_r = ipmag.fishrot(k=35, n=25, dec=182, inc=57)\n",
       "    >>> directions = directions_n + directions_r\n",
       "    >>> ipmag.reversal_test_bootstrap(di_block=directions, plot_stereo = True)\n",
       "\n",
       "    Data can also be input to the function as separate lists of dec and inc.\n",
       "    In this example, the di_block from above is split into lists of dec and inc\n",
       "    which are then used in the function:\n",
       "\n",
       "    >>> direction_dec, direction_inc, direction_moment = ipmag.unpack_di_block(directions)\n",
       "    >>> ipmag.reversal_test_bootstrap(dec=direction_dec,inc=direction_inc, plot_stereo = True)\n",
       "\u001b[0;31mFile:\u001b[0m      ~/0000_Github/PmagPy/pmagpy/ipmag.py\n",
       "\u001b[0;31mType:\u001b[0m      function\n"
      ]
     },
     "metadata": {},
     "output_type": "display_data"
    }
   ],
   "source": [
    "ipmag.reversal_test_bootstrap?"
   ]
  },
  {
   "cell_type": "markdown",
   "metadata": {},
   "source": [
    "### Conduct the bootstrap reversal test\n",
    "\n",
    "Let's go ahead and do the reversal test."
   ]
  },
  {
   "cell_type": "code",
   "execution_count": 6,
   "metadata": {},
   "outputs": [
    {
     "data": {
      "image/png": "[encoded data removed]",
      "text/plain": [
       "<Figure size 504x165.6 with 3 Axes>"
      ]
     },
     "metadata": {
      "image/png": {
       "height": 170,
       "width": 495
      },
      "needs_background": "light"
     },
     "output_type": "display_data"
    },
    {
     "name": "stdout",
     "output_type": "stream",
     "text": [
      "Fail, distinct in x and z\n"
     ]
    },
    {
     "data": {
      "text/plain": [
       "0"
      ]
     },
     "execution_count": 6,
     "metadata": {},
     "output_type": "execute_result"
    }
   ],
   "source": [
    "ipmag.reversal_test_bootstrap(dec=sites_dec,\n",
    "                              inc=sites_inc)"
   ]
  },
  {
   "cell_type": "markdown",
   "metadata": {},
   "source": [
    "## Conduct the Watson common mean reversal test\n",
    "\n",
    "We can do the Watson common mean test (together with McFadden and McElhinny (1990) classification) as well:"
   ]
  },
  {
   "cell_type": "code",
   "execution_count": 7,
   "metadata": {},
   "outputs": [
    {
     "name": "stdout",
     "output_type": "stream",
     "text": [
      "Results of Watson V test: \n",
      "\n",
      "Watson's V:           13.3\n",
      "Critical value of V:  6.0\n",
      "\"Fail\": Since V is greater than Vcrit, the two means can\n",
      "be distinguished at the 95% confidence level.\n",
      "\n",
      "M&M1990 classification:\n",
      "\n",
      "Angle between data set means: 9.9\n",
      "Critical angle for M&M1990:   6.7\n",
      "\n"
     ]
    },
    {
     "data": {
      "text/plain": [
       "(0, 9.928574544258854, 6.662235847838227, '')"
      ]
     },
     "execution_count": 7,
     "metadata": {},
     "output_type": "execute_result"
    }
   ],
   "source": [
    "ipmag.reversal_test_MM1990(dec=sites_dec,\n",
    "                           inc=sites_inc)"
   ]
  }
 ],
 "metadata": {
  "kernelspec": {
   "display_name": "Python 3 (ipykernel)",
   "language": "python",
   "name": "python3"
  },
  "language_info": {
   "codemirror_mode": {
    "name": "ipython",
    "version": 3
   },
   "file_extension": ".py",
   "mimetype": "text/x-python",
   "name": "python",
   "nbconvert_exporter": "python",
   "pygments_lexer": "ipython3",
   "version": "3.9.12"
  }
 },
 "nbformat": 4,
 "nbformat_minor": 4
}
